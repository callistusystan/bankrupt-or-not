{
 "cells": [
  {
   "cell_type": "markdown",
   "metadata": {},
   "source": [
    "# Data Checker"
   ]
  },
  {
   "cell_type": "markdown",
   "metadata": {},
   "source": [
    "## get_jobs function"
   ]
  },
  {
   "cell_type": "code",
   "execution_count": 3,
   "metadata": {},
   "outputs": [
    {
     "name": "stdout",
     "output_type": "stream",
     "text": [
      "['Sports', 'Personal Service Workers']\n",
      "['Storepersons']\n",
      "['Automotive', 'Engineering Trades Workers']\n"
     ]
    }
   ],
   "source": [
    "import re\n",
    "\n",
    "occupations = [\"Sports and Personal Service Workers\", \"Storepersons\", \"Automotive and Engineering Trades Workers\"]\n",
    "pattern = re.compile(\" and |, \")\n",
    "\n",
    "for occupation in occupations:\n",
    "    print(pattern.split(occupation))"
   ]
  },
  {
   "cell_type": "code",
   "execution_count": 4,
   "metadata": {
    "collapsed": true
   },
   "outputs": [],
   "source": [
    "def get_jobs(occupation):\n",
    "    return pattern.split(occupation)"
   ]
  },
  {
   "cell_type": "markdown",
   "metadata": {},
   "source": [
    "## API Test"
   ]
  },
  {
   "cell_type": "code",
   "execution_count": 5,
   "metadata": {},
   "outputs": [
    {
     "name": "stdout",
     "output_type": "stream",
     "text": [
      "[{'Average salary or wage income3 \\n$': 12549.2,\n",
      "  'Average taxable income3\\n$': 54872.49,\n",
      "  'Average total income3 \\n$': 55835.24,\n",
      "  'Median salary or wage income3 \\n$': 13274,\n",
      "  'Median taxable income3\\n$': 58991,\n",
      "  'Median total income3 \\n$': 59437,\n",
      "  'Number of individuals': 41,\n",
      "  'Occupation - unit group4': '3111 Agricultural technician',\n",
      "  'State2': 'ACT',\n",
      "  '_id': 1157,\n",
      "  'rank': 0.0573088},\n",
      " {'Average salary or wage income3 \\n$': 12822.05,\n",
      "  'Average taxable income3\\n$': 55145.04,\n",
      "  'Average total income3 \\n$': 57426.67,\n",
      "  'Median salary or wage income3 \\n$': 11065,\n",
      "  'Median taxable income3\\n$': 53589,\n",
      "  'Median total income3 \\n$': 54771,\n",
      "  'Number of individuals': 457,\n",
      "  'Occupation - unit group4': '3111 Agricultural technician',\n",
      "  'State2': 'NSW',\n",
      "  '_id': 1158,\n",
      "  'rank': 0.0573088},\n",
      " {'Average salary or wage income3 \\n$': 15126.06,\n",
      "  'Average taxable income3\\n$': 63617.26,\n",
      "  'Average total income3 \\n$': 66244.47,\n",
      "  'Median salary or wage income3 \\n$': 13477,\n",
      "  'Median taxable income3\\n$': 60277,\n",
      "  'Median total income3 \\n$': 61302,\n",
      "  'Number of individuals': 19,\n",
      "  'Occupation - unit group4': '3111 Agricultural technician',\n",
      "  'State2': 'NT',\n",
      "  '_id': 1159,\n",
      "  'rank': 0.0573088},\n",
      " {'Average salary or wage income3 \\n$': 11934.72,\n",
      "  'Average taxable income3\\n$': 52684.63,\n",
      "  'Average total income3 \\n$': 55244.57,\n",
      "  'Median salary or wage income3 \\n$': 9864,\n",
      "  'Median taxable income3\\n$': 49674,\n",
      "  'Median total income3 \\n$': 52560,\n",
      "  'Number of individuals': 429,\n",
      "  'Occupation - unit group4': '3111 Agricultural technician',\n",
      "  'State2': 'QLD',\n",
      "  '_id': 1160,\n",
      "  'rank': 0.0573088},\n",
      " {'Average salary or wage income3 \\n$': 13116.09,\n",
      "  'Average taxable income3\\n$': 59485.1,\n",
      "  'Average total income3 \\n$': 61769.79,\n",
      "  'Median salary or wage income3 \\n$': 11748.5,\n",
      "  'Median taxable income3\\n$': 57024,\n",
      "  'Median total income3 \\n$': 58508,\n",
      "  'Number of individuals': 211,\n",
      "  'Occupation - unit group4': '3111 Agricultural technician',\n",
      "  'State2': 'SA',\n",
      "  '_id': 1161,\n",
      "  'rank': 0.0573088}]\n"
     ]
    }
   ],
   "source": [
    "import requests\n",
    "from pprint import pprint\n",
    "\n",
    "def get_data_for(job):\n",
    "    ROOT_URL = 'https://data.gov.au/data'\n",
    "    API_URL = ROOT_URL + '/api/3/action/datastore_search?resource_id=bfa7ef04-e9f2-46ff-a959-84f005dfd17b%s'\n",
    "    request =  API_URL % ('&q=%s' % job)\n",
    "\n",
    "    response = requests.get(request).json()\n",
    "\n",
    "    total_records = response['result']['total']\n",
    "    \n",
    "    data = response['result']['records']\n",
    "    while len(data) < total_records:\n",
    "        next_request = ROOT_URL + response['result']['_links']['next']\n",
    "        response = requests.get(next_request).json()\n",
    "        data += response['result']['records']\n",
    "    return data\n",
    "\n",
    "pprint(get_data_for('technician')[:5])"
   ]
  },
  {
   "cell_type": "markdown",
   "metadata": {},
   "source": [
    "## get_average_income_for method"
   ]
  },
  {
   "cell_type": "code",
   "execution_count": 6,
   "metadata": {},
   "outputs": [
    {
     "name": "stdout",
     "output_type": "stream",
     "text": [
      "67005.76781250001\n"
     ]
    }
   ],
   "source": [
    "AVERAGE_TOTAL_INCOME = 'Average total income3 \\n$'\n",
    "\n",
    "def get_average_income_for(job):\n",
    "    data = get_data_for(job)\n",
    "    \n",
    "    data_total_income = 0\n",
    "    for point in data:\n",
    "        data_total_income += point[AVERAGE_TOTAL_INCOME]\n",
    "        \n",
    "    return data_total_income/max(1, len(data))\n",
    "\n",
    "pprint(get_average_income_for('technician'))"
   ]
  },
  {
   "cell_type": "markdown",
   "metadata": {},
   "source": [
    "## Process occupations.csv"
   ]
  },
  {
   "cell_type": "code",
   "execution_count": 7,
   "metadata": {},
   "outputs": [
    {
     "name": "stdout",
     "output_type": "stream",
     "text": [
      "defaultdict(<class 'float'>,\n",
      "            {'AFSA': 0.0,\n",
      "             'Arts and Media Professionals': 0.0,\n",
      "             'Automotive and Engineering Trades Workers': 47662.66645833333,\n",
      "             'Business, Human Resource and Marketing Professionals': 77583.54833333332,\n",
      "             'Carers and Aides': 37123.9640625,\n",
      "             'Chief Executives, General Managers and Legislators': 121835.31916666667,\n",
      "             'Cleaners and Laundry Workers': 33535.71453125,\n",
      "             'Clerical and Office Support Workers': 45200.33734375,\n",
      "             'Construction Trades Workers': 0.0,\n",
      "             'Construction and Mining Labourers': 85313.40778716217,\n",
      "             'Design, Engineering, Science and Transport Professionals': 70794.60455940316,\n",
      "             'Education Professionals': 0.0,\n",
      "             'Electrotechnology and Telecommunications Trades Workers': 29159.781875,\n",
      "             'Engineering, ICT and Science Technicians': 49180.281287537546,\n",
      "             'Factory Process Workers': 43905.36928571429,\n",
      "             'Farm, Forestry and Garden Workers': 38336.60304273505,\n",
      "             'Farmers and Farm Managers': 28011.65764705882,\n",
      "             'Food Preparation Assistants': 0.0,\n",
      "             'Food Trades Workers': 33032.27875,\n",
      "             'General Clerical Workers': 0.0,\n",
      "             'Health Professionals': 91846.00875,\n",
      "             'Health and Welfare Support Workers': 54214.090357142864,\n",
      "             'Hospitality Workers': 33388.73125,\n",
      "             'Hospitality, Retail and Service Managers': 60075.346722222224,\n",
      "             'ICT Professionals': 0.0,\n",
      "             'Inquiry Clerks and Receptionists': 49740.041875,\n",
      "             'Legal, Social and Welfare Professionals': 50355.75395833334,\n",
      "             'Machine and Stationary Plant Operators': 70361.64420343138,\n",
      "             'Mobile Plant Operators': 64037.146250000005,\n",
      "             'Numerical Clerks': 0.0,\n",
      "             'Office Managers and Program Administrators': 64421.86624999999,\n",
      "             'Other Clerical and Administrative Workers': 50547.5209375,\n",
      "             'Other Labourers': 81063.65125,\n",
      "             'Other Technicians and Trades Workers': 68778.66654647437,\n",
      "             'Personal Assistants and Secretaries': 30762.589374999996,\n",
      "             'Protective Service Workers': 0.0,\n",
      "             'Road and Rail Drivers': 0.0,\n",
      "             'Sales Assistants and Salespersons': 43887.10296875,\n",
      "             'Sales Representatives and Agents': 72576.644375,\n",
      "             'Sales Support Workers': 0.0,\n",
      "             'Skilled Animal and Horticultural Workers': 14430.73625,\n",
      "             'Specialist Managers': 78724.69375,\n",
      "             'Sports and Personal Service Workers': 29343.686875,\n",
      "             'Storepersons': 35821.516875})\n"
     ]
    }
   ],
   "source": [
    "import csv\n",
    "from collections import defaultdict\n",
    "\n",
    "occupations_average_income = defaultdict(float)\n",
    "\n",
    "with open('./occupations.csv', 'r', encoding='utf-8') as f:\n",
    "    reader = csv.reader(f)\n",
    "    for row in reader:\n",
    "        occupation = row[0]\n",
    "        jobs = get_jobs(str(occupation))\n",
    "\n",
    "        cleaned_jobs = []\n",
    "        results = []\n",
    "        for job in jobs:\n",
    "            job = job.lower()\n",
    "            if not job.endswith('ss') and job.endswith('s'):\n",
    "                job = job.rstrip('s')\n",
    "            cleaned_jobs.append(job)\n",
    "            results.append(get_average_income_for(job))\n",
    "\n",
    "        average_income = sum(results)/len(jobs)\n",
    "        \n",
    "        occupations_average_income[occupation] = average_income\n",
    "\n",
    "pprint(occupations_average_income)"
   ]
  },
  {
   "cell_type": "markdown",
   "metadata": {},
   "source": [
    "## Process provided data"
   ]
  },
  {
   "cell_type": "code",
   "execution_count": 8,
   "metadata": {},
   "outputs": [
    {
     "name": "stdout",
     "output_type": "stream",
     "text": [
      "[0, 99999]\n",
      "[-10000, -5000]\n"
     ]
    }
   ],
   "source": [
    "def get_income_range(income_range):\n",
    "    if re.match(r'^\\$-?[0-9]+-\\$-?[0-9]+$', income_range):\n",
    "        tokens = income_range.split('-$')\n",
    "        return [int(el.strip('$')) for el in tokens]\n",
    "    return [200000]\n",
    "\n",
    "print(get_income_range('$0-$99999'))\n",
    "print(get_income_range('$-10000-$-5000'))"
   ]
  },
  {
   "cell_type": "code",
   "execution_count": 17,
   "metadata": {},
   "outputs": [],
   "source": [
    "with open('./data.csv', 'r', newline='') as f:\n",
    "    with open('./output.csv', 'w', newline='') as g:\n",
    "        reader = csv.reader(f)\n",
    "        writer = csv.writer(g, delimiter=',', quotechar='\"', quoting=csv.QUOTE_MINIMAL)\n",
    "\n",
    "        first = True\n",
    "        count_wrong = 0\n",
    "        for row in reader:\n",
    "            if not first:\n",
    "                occupation = row[10]\n",
    "                income = row[13]\n",
    "                income_range = get_income_range(income)\n",
    "                max_income_range = income_range[0]\n",
    "\n",
    "                expected = occupations_average_income[occupation]\n",
    "                if income_range[-1] < 50000 and income_range[-1] < expected and expected - income_range[-1] > 5000:\n",
    "                    writer.writerow(row + ['INCOME_BELOW_EXPECTED', 'Average $%.2f, got %s' % (expected, income)])\n",
    "                else:\n",
    "                    writer.writerow(row)\n",
    "            else:\n",
    "                writer.writerow(row + ['Alert Category', 'Alert Reason'])\n",
    "            first = False"
   ]
  }
 ],
 "metadata": {
  "kernelspec": {
   "display_name": "Python 3",
   "language": "python",
   "name": "python3"
  }
 },
 "nbformat": 4,
 "nbformat_minor": 2
}
